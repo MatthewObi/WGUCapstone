{
 "cells": [
  {
   "cell_type": "markdown",
   "metadata": {
    "extensions": {
     "jupyter_dashboards": {
      "version": 1,
      "views": {
       "grid_default": {},
       "report_default": {}
      }
     }
    }
   },
   "source": [
    "# Main notebook #\n",
    "The notebook below contains data corresponding to the neural network, as well as an interactive test of the neural network."
   ]
  },
  {
   "cell_type": "code",
   "execution_count": null,
   "metadata": {
    "extensions": {
     "jupyter_dashboards": {
      "version": 1,
      "views": {
       "grid_default": {},
       "report_default": {}
      }
     }
    },
    "slideshow": {
     "slide_type": "-"
    }
   },
   "outputs": [],
   "source": [
    "from matplotlib import pyplot as plot\n",
    "import matplotlib as mpl\n",
    "import numpy as np\n",
    "from PIL import Image\n",
    "import sqlite3\n",
    "import keras \n",
    "from keras.models import Sequential, load_model\n",
    "from keras.layers import Dense, Dropout, Flatten \n",
    "from keras.layers import Conv2D, MaxPooling2D \n",
    "from keras import backend as K \n",
    "from keras.utils import plot_model\n",
    "from keras.optimizers import Adam\n",
    "from ipywidgets import ColorPicker, HBox, link, Button, Output, Dropdown, BoundedIntText, Output, FileUpload\n",
    "from ipycanvas import Canvas as RoughCanvas, hold_canvas\n",
    "from io import BytesIO\n",
    "import lzma\n",
    "import os.path\n",
    "\n",
    "def decompress_db():\n",
    "    with open('./data/char.db.lz', 'rb') as f:\n",
    "        cdata = f.read()\n",
    "    data = lzma.decompress(cdata)\n",
    "    with open('./data/char.db', 'wb') as f:\n",
    "        f.write(data)\n",
    "\n",
    "if not os.path.exists('./data/char.db'):\n",
    "    decompress_db()\n",
    "\n",
    "def load_train_data(cat=None, count=-1):\n",
    "    conn = sqlite3.connect(\"./data/char.db\")\n",
    "    cur = conn.cursor()\n",
    "    if cat is None:\n",
    "        if count < 0:\n",
    "            cur = cur.execute(\"SELECT data, cat FROM characters WHERE is_test=0\")\n",
    "        else:\n",
    "            cur = cur.execute(\"SELECT data, cat FROM characters WHERE is_test=0 LIMIT ?\", (count,))\n",
    "    else:\n",
    "        cats = '0123456789ABCDEFGHIJKLMNOPQRSTUVWXYZ'\n",
    "        cat_table = {cats[i]: i for i in range(len(cats))}\n",
    "        catid = cat_table[cat]\n",
    "        if count < 0:\n",
    "            cur = cur.execute(\"SELECT data, cat FROM characters WHERE is_test=0 AND cat=?\", (catid,))\n",
    "        else:\n",
    "            cur = cur.execute(\"SELECT data, cat FROM characters WHERE is_test=0 AND cat=? LIMIT ?\", (catid, count))\n",
    "    out = cur.fetchall()\n",
    "    cur.close()\n",
    "    conn.close()\n",
    "    out_x = np.array([[x for x in n[0]] for n in out])\n",
    "    out_x = out_x.reshape((out_x.shape[0], 28, 28, 1)).astype('float32')/255\n",
    "    out_y = np.array([[1.0 if out[i][1] == j else 0.0 for j in range(36)] for i in range(len(out))])\n",
    "    return out_x, out_y\n",
    "\n",
    "def load_test_data(cat=None, count=-1):\n",
    "    conn = sqlite3.connect(\"./data/char.db\")\n",
    "    cur = conn.cursor()\n",
    "    if cat is None:\n",
    "        if count < 0:\n",
    "            cur = cur.execute(\"SELECT data, cat FROM characters WHERE is_test=1\")\n",
    "        else:\n",
    "            cur = cur.execute(\"SELECT data, cat FROM characters WHERE is_test=1 LIMIT ?\", (count,))\n",
    "    else:\n",
    "        cats = '0123456789ABCDEFGHIJKLMNOPQRSTUVWXYZ'\n",
    "        cat_table = {cats[i]: i for i in range(len(cats))}\n",
    "        catid = cat_table[cat]\n",
    "        if count < 0:\n",
    "            cur = cur.execute(\"SELECT data, cat FROM characters WHERE is_test=1 AND cat=?\", (catid,))\n",
    "        else:\n",
    "            cur = cur.execute(\"SELECT data, cat FROM characters WHERE is_test=1 AND cat=? LIMIT ?\", (catid, count))\n",
    "    out = cur.fetchall()\n",
    "    cur.close()\n",
    "    conn.close()\n",
    "    out_x = np.array([[x for x in n[0]] for n in out])\n",
    "    out_x = out_x.reshape((out_x.shape[0], 28, 28, 1)).astype('float32')/255\n",
    "    out_y = np.array([[1.0 if out[i][1] == j else 0.0 for j in range(36)] for i in range(len(out))])\n",
    "    return out_x, out_y"
   ]
  },
  {
   "cell_type": "markdown",
   "metadata": {
    "extensions": {
     "jupyter_dashboards": {
      "version": 1,
      "views": {
       "grid_default": {},
       "report_default": {}
      }
     }
    }
   },
   "source": [
    "## Data preperation\n",
    "\n",
    "The following graphs show the distribution of data elements among categories. The images are seperated into two sets: Training and Testing. Testing images account for about 20% of the total number of images for each category."
   ]
  },
  {
   "cell_type": "code",
   "execution_count": null,
   "metadata": {
    "extensions": {
     "jupyter_dashboards": {
      "version": 1,
      "views": {
       "grid_default": {},
       "report_default": {}
      }
     }
    }
   },
   "outputs": [],
   "source": [
    "def show_input_data_count():\n",
    "    conn = sqlite3.connect(\"./data/char.db\")\n",
    "    cur = conn.cursor()\n",
    "    cur = cur.execute(\"SELECT name FROM sqlite_master WHERE type='table' AND name='char_count';\")\n",
    "    if True:\n",
    "        cur = cur.execute(\"\"\"\n",
    "        CREATE TABLE IF NOT EXISTS char_count(\n",
    "            countid INTEGER PRIMARY KEY AUTOINCREMENT,\n",
    "            catid INTEGER,\n",
    "            train_count INTEGER,\n",
    "            test_count INTEGER,\n",
    "            FOREIGN KEY(catid) REFERENCES category(catid)\n",
    "        )\n",
    "        \"\"\")\n",
    "        cur = cur.execute(\"\"\"SELECT COUNT(*) FROM char_count\"\"\")\n",
    "        if cur.fetchall()[0][0] == 0:\n",
    "            for catid in range(36):\n",
    "                cur = cur.execute(\"\"\"\n",
    "                INSERT INTO char_count(catid, train_count, test_count) VALUES(?, \n",
    "                    (SELECT COUNT(*) FROM characters WHERE cat=? AND is_test=0), \n",
    "                    (SELECT COUNT(*) FROM characters WHERE cat=? AND is_test=1))\n",
    "        \"\"\", (catid, catid, catid))\n",
    "            conn.commit()\n",
    "    data_cats = {}\n",
    "    for catid in range(36):\n",
    "        cur = cur.execute(\"\"\"\n",
    "        SELECT train_count, test_count, catid FROM char_count WHERE catid=?\n",
    "\"\"\", (catid,))\n",
    "        data_cats['0123456789ABCDEFGHIJKLMNOPQRSTUVWXYZ'[catid]] = cur.fetchall()[0]\n",
    "    notest = [x[0] for x in data_cats.values()]\n",
    "    yestest = [x[1] for x in data_cats.values()]\n",
    "    fig, ax = plot.subplots()  # Create a figure containing a single axes.\n",
    "    ax.bar(data_cats.keys(), notest, label='Training')\n",
    "    ax.bar(data_cats.keys(), yestest, bottom=notest, label='Testing')\n",
    "    ax.set_xlabel(\"Category\")\n",
    "    ax.set_ylabel(\"Image Count\")\n",
    "    ax.legend()\n",
    "    display(ax)\n",
    "show_input_data_count()"
   ]
  },
  {
   "cell_type": "markdown",
   "metadata": {
    "extensions": {
     "jupyter_dashboards": {
      "version": 1,
      "views": {
       "grid_default": {},
       "report_default": {}
      }
     }
    }
   },
   "source": [
    "The cell below allows you to see the training data in a visual form. "
   ]
  },
  {
   "cell_type": "code",
   "execution_count": null,
   "metadata": {
    "extensions": {
     "jupyter_dashboards": {
      "version": 1,
      "views": {
       "grid_default": {},
       "report_default": {}
      }
     }
    }
   },
   "outputs": [],
   "source": [
    "cat_dropdown = Dropdown(options=[c for c in '0123456789ABCDEFGHIJKLMNOPQRSTUVWXYZ'], \n",
    "                        value='0', \n",
    "                        description='Category:', \n",
    "                        disabled=False)\n",
    "idx_bound_int = BoundedIntText(value=0, min=0, max=1000, description='Index: ', disabled=False)\n",
    "test_set_display_out = Output()\n",
    "with test_set_display_out:\n",
    "    display(Image.fromarray(np.zeros((28, 28), np.int8)).convert(\"RGB\"))\n",
    "def button_show_click(self: Button):\n",
    "    global cat_dropdown\n",
    "    global idx_bound_int\n",
    "    global test_set_display_out\n",
    "    c1_imgs, c1_cats = load_test_data(cat_dropdown.value, 1000)\n",
    "    base = np.zeros((28, 28), np.int8)\n",
    "    base2 = c1_imgs[idx_bound_int.value].reshape(28, 28)\n",
    "    for y in range(28):\n",
    "        for x in range(28):\n",
    "            base[y][x] = int(255 * base2[y][x])\n",
    "    with test_set_display_out:\n",
    "        test_set_display_out.clear_output()\n",
    "        display(Image.fromarray(base).convert(\"RGB\"))\n",
    "btn_show = Button(description='Show', disabled=False)\n",
    "btn_show.on_click(button_show_click)\n",
    "display(cat_dropdown)\n",
    "display(idx_bound_int)\n",
    "display(btn_show)\n",
    "display(test_set_display_out)"
   ]
  },
  {
   "cell_type": "markdown",
   "metadata": {
    "extensions": {
     "jupyter_dashboards": {
      "version": 1,
      "views": {
       "grid_default": {},
       "report_default": {}
      }
     }
    }
   },
   "source": [
    "## Model configuration ##\n",
    "\n",
    "The cell below defines the function which will either retrieve the model from a file, or compile the model as well as set its initial state. "
   ]
  },
  {
   "cell_type": "code",
   "execution_count": null,
   "metadata": {
    "extensions": {
     "jupyter_dashboards": {
      "version": 1,
      "views": {
       "grid_default": {},
       "report_default": {}
      }
     }
    }
   },
   "outputs": [],
   "source": [
    "def train(model, train_x, train_y, test_x, test_y):\n",
    "    global score\n",
    "    global cat_scores\n",
    "    global epoch_count\n",
    "    model.fit(\n",
    "        train_x, train_y, \n",
    "        batch_size = 128, \n",
    "        epochs = 1, \n",
    "        verbose = 1, \n",
    "        validation_data = (test_x, test_y)\n",
    "    )\n",
    "\n",
    "    score = model.evaluate(test_x, test_y, verbose = 1) \n",
    "\n",
    "    scores.append(score)\n",
    "    import sys\n",
    "    def test_nn(model: keras.Model):\n",
    "        results = {}\n",
    "        write = sys.stdout.write\n",
    "        for c in '0123456789ABCDEFGHIJKLMNOPQRSTUVWXYZ':\n",
    "            write(f\"Testing {c}...\")\n",
    "            to_test, to_test_cat = load_test_data(c)\n",
    "            score = model.evaluate(to_test, to_test_cat, verbose = 0) \n",
    "            results[c] = score\n",
    "            write(\"\\r\")\n",
    "        write(\"\\nDone.\")\n",
    "        return results\n",
    "    cat_scores.append(test_nn(model))\n",
    "    epoch_count += 1\n",
    "    model.save(\"./model\")\n",
    "    import json\n",
    "    with open('./model_stats.json', 'w') as f:\n",
    "        json.dump({'epoch_count': epoch_count, 'scores': scores, 'cat_scores': cat_scores}, f)\n",
    "\n",
    "def init_model(from_file = False):\n",
    "    global scores\n",
    "    global cat_scores\n",
    "    global epoch_count\n",
    "    if from_file:\n",
    "        model = load_model('./model')\n",
    "        import json\n",
    "        with open('./model_stats.json', 'r') as f:\n",
    "            json_data = json.load(f)\n",
    "        epoch_count = json_data['epoch_count']\n",
    "        scores = json_data['scores']\n",
    "        cat_scores = json_data['cat_scores']\n",
    "    else:\n",
    "        model = Sequential() \n",
    "        model.add(Conv2D(32, kernel_size = (3, 3),  \n",
    "           activation = 'relu', input_shape = (28,28,1))) \n",
    "        model.add(Conv2D(64, (3, 3), activation = 'relu')) \n",
    "        model.add(MaxPooling2D(pool_size = (2, 2))) \n",
    "        model.add(Conv2D(128, (3, 3), activation = 'relu')) \n",
    "        model.add(MaxPooling2D(pool_size = (2, 2))) \n",
    "        model.add(Conv2D(256, (3, 3), activation = 'relu')) \n",
    "        model.add(MaxPooling2D(pool_size = (2, 2))) \n",
    "        # model.add(Dropout(0.25))\n",
    "        model.add(Flatten()) \n",
    "        model.add(Dense(96, activation = 'relu')) \n",
    "        # model.add(Dropout(0.50)) \n",
    "        model.add(Dense(36, activation = 'softmax'))\n",
    "\n",
    "        scores = []\n",
    "        cat_scores = []\n",
    "        epoch_count = 0\n",
    "        \n",
    "        model.compile(loss = keras.losses.categorical_crossentropy,metrics=['accuracy'])\n",
    "    return model"
   ]
  },
  {
   "cell_type": "markdown",
   "metadata": {
    "extensions": {
     "jupyter_dashboards": {
      "version": 1,
      "views": {
       "grid_default": {},
       "report_default": {}
      }
     }
    }
   },
   "source": [
    "The cell below loads the model. Optionally, it will train one epoch (one pass of the training data) for the neural network. It also records the overall scores and the categorical scores of the neural network."
   ]
  },
  {
   "cell_type": "code",
   "execution_count": null,
   "metadata": {
    "extensions": {
     "jupyter_dashboards": {
      "version": 1,
      "views": {
       "grid_default": {},
       "report_default": {}
      }
     }
    }
   },
   "outputs": [],
   "source": [
    "def train_main():\n",
    "    global model\n",
    "    model = init_model(False)\n",
    "    train_x, train_y = load_train_data()\n",
    "    test_x, test_y = load_test_data()\n",
    "    train(model, train_x, train_y, test_x, test_y)\n",
    "    \n",
    "def train_preload_main():\n",
    "    global model\n",
    "    model = init_model(True)\n",
    "    train_x, train_y = load_train_data()\n",
    "    test_x, test_y = load_test_data()\n",
    "    train(model, train_x, train_y, test_x, test_y)\n",
    "\n",
    "def test_main():\n",
    "    global model\n",
    "    model = init_model(True)\n",
    "\n",
    "# To train the model, replace the below line with 'train_preload_main()'.\n",
    "test_main()"
   ]
  },
  {
   "cell_type": "markdown",
   "metadata": {
    "extensions": {
     "jupyter_dashboards": {
      "version": 1,
      "views": {
       "grid_default": {},
       "report_default": {}
      }
     }
    }
   },
   "source": [
    "## Neural network data ##\n",
    "\n",
    "In the figure below, we can see that the accuracy value of the neural network increases as the number of epochs increases. The increase in accuracy in approximately logarithmic."
   ]
  },
  {
   "cell_type": "code",
   "execution_count": null,
   "metadata": {
    "extensions": {
     "jupyter_dashboards": {
      "version": 1,
      "views": {
       "grid_default": {},
       "report_default": {}
      }
     }
    }
   },
   "outputs": [],
   "source": [
    "fig, axs = plot.subplots(1, 2)  # Create a figure containing a single axes.\n",
    "fig.set_figwidth(12)\n",
    "acc = [n[1] for n in scores]\n",
    "loss = [n[0] for n in scores]\n",
    "axs[0].plot([i for i in range(1, len(acc) + 1)], acc)\n",
    "axs[0].set_xlabel(\"Epochs\")\n",
    "axs[0].set_ylabel(\"Accuracy\")\n",
    "axs[1].plot([i for i in range(1, len(loss) + 1)], loss)\n",
    "axs[1].set_xlabel(\"Epochs\")\n",
    "axs[1].set_ylabel(\"Loss\")\n",
    "display(axs[0])\n",
    "display(axs[1])"
   ]
  },
  {
   "cell_type": "markdown",
   "metadata": {
    "extensions": {
     "jupyter_dashboards": {
      "version": 1,
      "views": {
       "grid_default": {},
       "report_default": {}
      }
     }
    }
   },
   "source": [
    "Below is a list of accuracy ratings for each category of character. An accuracy rating of 1.00 means a 100% accuracy on \n",
    "the test set."
   ]
  },
  {
   "cell_type": "code",
   "execution_count": null,
   "metadata": {
    "extensions": {
     "jupyter_dashboards": {
      "version": 1,
      "views": {
       "grid_default": {},
       "report_default": {}
      }
     }
    }
   },
   "outputs": [],
   "source": [
    "%matplotlib inline\n",
    "epoch_dropdown = Dropdown(options=[i+1 for i in range(epoch_count)], \n",
    "                        value=epoch_count, \n",
    "                        description='Epoch number:', \n",
    "                        disabled=False)\n",
    "graph_display_out = Output()\n",
    "with graph_display_out:\n",
    "    graph_display_out.clear_output()\n",
    "    fig, ax = plot.subplots()  # Create a figure containing a single axes.\n",
    "    ax.bar(cat_scores[epoch_dropdown.value-1].keys(), [x[1] for x in cat_scores[epoch_dropdown.value-1].values()])\n",
    "    ax.set_ybound(0.50, 1.0)\n",
    "    ax.set_xlabel(\"Category\")\n",
    "    ax.set_ylabel(\"Accuracy\")\n",
    "    plot.show(fig)\n",
    "def button_gshow_click(self: Button):\n",
    "    global epoch_dropdown\n",
    "    global graph_display_out\n",
    "    with graph_display_out:\n",
    "        graph_display_out.clear_output()\n",
    "        fig, ax = plot.subplots()  # Create a figure containing a single axes.\n",
    "        ax.bar(cat_scores[epoch_dropdown.value-1].keys(), [x[1] for x in cat_scores[epoch_dropdown.value-1].values()])\n",
    "        ax.set_ybound(0.50, 1.0)\n",
    "        ax.set_xlabel(\"Category\")\n",
    "        ax.set_ylabel(\"Accuracy\")\n",
    "        plot.show(fig)\n",
    "btn_gshow = Button(description='Show', disabled=False)\n",
    "btn_gshow.on_click(button_gshow_click)\n",
    "display(epoch_dropdown)\n",
    "display(btn_gshow)\n",
    "display(graph_display_out)"
   ]
  },
  {
   "cell_type": "markdown",
   "metadata": {
    "extensions": {
     "jupyter_dashboards": {
      "version": 1,
      "views": {
       "grid_default": {},
       "report_default": {}
      }
     }
    }
   },
   "source": [
    "As we can see, the categories \"0\", \"5\", and \"I\" have the lowest accuracy ratings. All of these categories are close in shape to other categories: \n",
    "* \"0\" is very close to \"O\"; \n",
    "* \"5\" is somewhat close to \"S\"\n",
    "* \"I\" is close to \"1\", although it does have some distinct features which make it a bit easier to distinguish."
   ]
  },
  {
   "cell_type": "markdown",
   "metadata": {
    "extensions": {
     "jupyter_dashboards": {
      "version": 1,
      "views": {
       "grid_default": {},
       "report_default": {}
      }
     }
    }
   },
   "source": [
    "## Test network ##\n",
    "\n",
    "In the box below, draw a letter or number. On the right will be a list of predictions that the network has predicted the letter or number to be along with the network's confidence in that prediction. "
   ]
  },
  {
   "cell_type": "code",
   "execution_count": null,
   "metadata": {
    "extensions": {
     "jupyter_dashboards": {
      "version": 1,
      "views": {
       "grid_default": {},
       "report_default": {}
      }
     }
    }
   },
   "outputs": [],
   "source": [
    "canvas_scl = 4\n",
    "canvas = RoughCanvas(width=28*canvas_scl, height=28*canvas_scl, sync_image_data=True)\n",
    "canvas.scale(canvas_scl)\n",
    "\n",
    "drawing = False\n",
    "position = None\n",
    "shape = []\n",
    "canvas_data = None\n",
    "\n",
    "pred_out = Output()\n",
    "\n",
    "def on_click_predict(this: Button):\n",
    "    global model\n",
    "    global canvas_data\n",
    "    global pred_output\n",
    "    if canvas_data is not None:\n",
    "        pred_out.clear_output(wait=True)\n",
    "        with pred_out:\n",
    "            input_data = np.array([b for b in Image.fromarray(canvas_data).convert('L').resize((28, 28)).tobytes()]).reshape((1, 28, 28, 1)).astype('float32')/255\n",
    "            output = model(input_data, training=False)\n",
    "            for i in list(reversed(np.argsort(output, axis=1)[0]))[:5]:\n",
    "                print(f'{\"0123456789ABCDEFGHIJKLMNOPQRSTUVWXYZ\"[i]}: {output[0][i] * 100:.02f}% confident')\n",
    "\n",
    "def on_mouse_down(x, y):\n",
    "    global drawing\n",
    "    global position\n",
    "    global shape\n",
    "    global canvas_data\n",
    "\n",
    "    drawing = True\n",
    "    position = (x / canvas_scl, y / canvas_scl)\n",
    "    shape = [position]\n",
    "\n",
    "\n",
    "def on_mouse_move(x, y):\n",
    "    global drawing\n",
    "    global position\n",
    "    global shape\n",
    "    global canvas_data\n",
    "\n",
    "    if not drawing:\n",
    "        return\n",
    "\n",
    "    with hold_canvas():\n",
    "        canvas.fill_rect(position[0], position[1], 1, 1)\n",
    "        # canvas.stroke_line(position[0], position[1], x / canvas_scl, y / canvas_scl)\n",
    "\n",
    "        position = (x / canvas_scl, y / canvas_scl)\n",
    "\n",
    "    canvas_data = canvas.get_image_data(0, 0, 28, 28)\n",
    "    \n",
    "    shape.append(position)\n",
    "\n",
    "\n",
    "def on_mouse_up(x, y):\n",
    "    global drawing\n",
    "    global position\n",
    "    global shape\n",
    "    global canvas_data\n",
    "\n",
    "    drawing = False\n",
    "\n",
    "    with hold_canvas():\n",
    "        canvas.fill_rect(position[0], position[1], 1, 1)\n",
    "        # canvas.stroke_line(position[0], position[1], x / canvas_scl, y / canvas_scl)\n",
    "        # canvas.fill_polygon(shape)\n",
    "\n",
    "    canvas_data = canvas.get_image_data(0, 0, 28*canvas_scl, 28*canvas_scl)\n",
    "    \n",
    "    on_click_predict(None)\n",
    "    shape = []\n",
    "\n",
    "\n",
    "canvas.on_mouse_down(on_mouse_down)\n",
    "canvas.on_mouse_move(on_mouse_move)\n",
    "canvas.on_mouse_up(on_mouse_up)\n",
    "\n",
    "canvas.stroke_style = \"#000000\"\n",
    "with hold_canvas():\n",
    "    canvas.fill_style = \"#000000\"\n",
    "    canvas.fill_rect(0, 0, 28*canvas_scl, 28*canvas_scl)\n",
    "    canvas.fill_style = \"#ffffff\"\n",
    "canvas.stroke_style = \"#ffffff\"\n",
    "\n",
    "f_upload = FileUpload(accept='image/*', multiple=False)\n",
    "\n",
    "def on_click_reset(this: Button):\n",
    "    global canvas\n",
    "    global canvas_data\n",
    "    canvas.stroke_style = \"#000000\"\n",
    "    with hold_canvas():\n",
    "        canvas.fill_style = \"#000000\"\n",
    "        canvas.fill_rect(0, 0, 28*canvas_scl, 28*canvas_scl)\n",
    "        canvas.fill_style = \"#ffffff\"\n",
    "    canvas.stroke_style = \"#ffffff\"\n",
    "    canvas_data = None\n",
    "    pred_out.clear_output()\n",
    "\n",
    "def on_file_upload(change: dict):\n",
    "    global f_upload\n",
    "    global canvas\n",
    "    global canvas_data\n",
    "    if len(f_upload.data) == 0:\n",
    "        return\n",
    "    imin = Image.open(BytesIO(f_upload.data[0])).resize((28, 28)).convert(\"RGB\")\n",
    "    x_data = np.array(imin)\n",
    "    with hold_canvas():\n",
    "        canvas.put_image_data(x_data)\n",
    "#     canvas_data = canvas.get_image_data(0, 0, 28*canvas_scl, 28*canvas_scl)\n",
    "    canvas_data = x_data\n",
    "    on_click_predict(None)\n",
    "    f_upload.value.clear()\n",
    "    f_upload._counter = 0\n",
    "    \n",
    "\n",
    "f_upload.observe(on_file_upload, 'value')\n",
    "# b_predict = Button(description=\"Predict\", disabled=False)\n",
    "# b_predict.on_click(on_click_predict)\n",
    "b_reset = Button(description=\"Reset\", disabled=False)\n",
    "b_reset.on_click(on_click_reset)\n",
    "display(HBox((b_reset,f_upload)))\n",
    "HBox((canvas, pred_out))"
   ]
  }
 ],
 "metadata": {
  "extensions": {
   "jupyter_dashboards": {
    "activeView": "grid_default",
    "version": 1,
    "views": {
     "grid_default": {
      "cellMargin": 10,
      "defaultCellHeight": 20,
      "maxColumns": 12,
      "name": "grid",
      "type": "grid"
     },
     "report_default": {
      "name": "report",
      "type": "report"
     }
    }
   }
  },
  "kernelspec": {
   "display_name": "Python 3 (ipykernel)",
   "language": "python",
   "name": "python3"
  },
  "language_info": {
   "codemirror_mode": {
    "name": "ipython",
    "version": 3
   },
   "file_extension": ".py",
   "mimetype": "text/x-python",
   "name": "python",
   "nbconvert_exporter": "python",
   "pygments_lexer": "ipython3",
   "version": "3.7.9"
  },
  "vscode": {
   "interpreter": {
    "hash": "ac1819112261af812642c65f9b167ee6296decc6f122ad0b9b482ed262cf9d22"
   }
  }
 },
 "nbformat": 4,
 "nbformat_minor": 2
}
